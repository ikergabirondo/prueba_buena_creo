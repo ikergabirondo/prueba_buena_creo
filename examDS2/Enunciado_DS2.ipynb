{
 "cells": [
  {
   "cell_type": "markdown",
   "metadata": {},
   "source": [
    "# EXAMEN DATASCIENCE II"
   ]
  },
  {
   "cell_type": "markdown",
   "metadata": {},
   "source": [
    "Antes de nada realizar un git clone del proyecto de github. Para la realización del test, borrar las opciones incorrectas dejando sólamente la respuesta correcta"
   ]
  },
  {
   "cell_type": "markdown",
   "metadata": {},
   "source": [
    "# ARIKETA 1 (2 puntos)"
   ]
  },
  {
   "cell_type": "markdown",
   "metadata": {},
   "source": [
    "Elige la respuesta mas adecuada para las siguientes preguntas. Nota: Respuesta correcta +0.20. Respuesta incorrecta -0.10"
   ]
  },
  {
   "cell_type": "raw",
   "metadata": {},
   "source": [
    "Dentro del almacenamiento de series temporales, una de las mayores ventajas que nos ofrecen es la persistencia de información. Cuando hablamos del término persistencia, nos referimos a:\n",
    "(a) La posibilidad de almacenar grandes volúmenes de datos en un mismo repositorio.\n",
    "(b) La posibilidad de realizar lecturas y escrituras de manera simultánea sin perder datos.\n",
    "(c) La posibilidad de trabajar con fuentes de datos no estructurados sobre un fichero.\n",
    "(d) Las tres anteriores son correctas\n"
   ]
  },
  {
   "cell_type": "raw",
   "metadata": {},
   "source": [
    "Una de las ventajas que nos ofrece InfluxDB a la hora de realizar consultas sobre series temporales es:\n",
    "\n",
    "(a) Al tener el intervalo de tiempo indexado nos permite consultar información en intervalos de tiempo de manera eficiente\n",
    "(b) Al tener el intervalo de tiempo indexado nos permite consultar infomación numérica de manera óptima\n",
    "(c) Al tener el tiempo indexado nos permite consultar y agrupar la información por intervalos de tiempo que definamos nosotr@s\n",
    "(d) La a y c son correctas\n"
   ]
  },
  {
   "cell_type": "raw",
   "metadata": {},
   "source": [
    "La siguiente expresión en xpath tree.xpath('count(//p/*)') nos devolvería:\n",
    "(a) El número total de etiquetas p que tiene el elemento tree\n",
    "(b) El número total de etiquetas descendientes de p que tiene el elemento tree\n",
    "(c) El número total de elementos que están al mismo nivel en la jerarquía que p dentro del elemento tree.\n",
    "(d) Ninguna de las anteriores\n"
   ]
  },
  {
   "cell_type": "raw",
   "metadata": {},
   "source": [
    "La distancia de Levenshtein y la distancia de Hamming se pueden diferenciar entre otras cosas en:\n",
    "(a) Leveshtein puede trabajar con strings de diferente codificación\n",
    "(b) Levenshtein puede trabajar con strings de diferente tamaño\n",
    "(c) Levenshtein da valores en porcentajes y Hamming valores absolutos\n",
    "(d) Ninguna de las anteriores.\n"
   ]
  },
  {
   "cell_type": "raw",
   "metadata": {},
   "source": [
    "data = \"La Inteligencia Aritifical son sistemas que permiten dotar a las máquinas de inteligencia para imitar destrezas humanas.\"\n",
    "Si aplicamos la siguiente función print(word_tokenize(data)), nos devolverá:\n",
    "(a) ['La Inteligencia Aritifical son sistemas que permiten dotar a las máquinas de inteligencia para imitar destrezas humanas.']\n",
    "(b) ['La', 'Inteligencia', 'Aritifical', 'son', 'sistemas', 'que', 'permiten', 'dotar', 'a', 'las', 'máquinas', 'de', 'inteligencia', 'para', 'imitar', 'destrezas', 'humanas', '.']\n",
    "(c) ['La Inteligencia Aritifical son sistemas que permiten dotar a las máquinas de inteligencia para imitar destrezas humanas']\n",
    "(d) ['La', 'Inteligencia', 'Aritifical', 'son', 'sistemas', 'que', 'permiten', 'dotar', 'a', 'las', 'máquinas', 'de', 'inteligencia', 'para', 'imitar', 'destrezas', 'humanas']"
   ]
  },
  {
   "cell_type": "markdown",
   "metadata": {},
   "source": [
    "### NOTA: Llegado a este punto, tienes que realizar un git commit y un git push. Esta parte del notebook no se puede modificar y no se puede empezar con el ejercicio 2 sin haber hecho los pasos previos. Si se hace un cambio en el test a lo largo del examen, no se corregirán los ejercicios restantes."
   ]
  },
  {
   "cell_type": "raw",
   "metadata": {},
   "source": [
    "A partir de este momento puedes usar los apuntes e internet, pero queda terminantemente prohibido utilizar:\n",
    "- Gmail\n",
    "- Dispositivos móviles\n",
    "- Aplicaciones de mensajería\n",
    "- Aplicacines de RRSS\n",
    "- Dropbox\n",
    "- Las siguientes páginas web: www.medium.com y www.towardsdatascience.com"
   ]
  },
  {
   "cell_type": "markdown",
   "metadata": {},
   "source": [
    "# ARIKETA 2 (2 puntos)"
   ]
  },
  {
   "cell_type": "markdown",
   "metadata": {},
   "source": [
    "Dada la página web https://dreguera.github.io y utilizando la Distancia de Levenshtein, printear en pantalla cuantas veces aparece el término escrito correctamente"
   ]
  },
  {
   "cell_type": "raw",
   "metadata": {},
   "source": [
    "Nota:\n",
    "Cada alumno elegirá el termino que está en el color de su grupo de reto.\n",
    "Hay que comparar los términos pasados a minuscula utilizando la funcion lower()\n",
    "Hay que escrapear el div concreto del ejercicio 2."
   ]
  },
  {
   "cell_type": "markdown",
   "metadata": {},
   "source": [
    "# ARIKETA 3 (4 puntos)"
   ]
  },
  {
   "cell_type": "markdown",
   "metadata": {},
   "source": [
    "Vamos construir un sistema de recomendación de películas basandonos en la similitud del coseno. Para ello cargaremos el csv \"movie_dataset.csv\" un dataframe"
   ]
  },
  {
   "cell_type": "markdown",
   "metadata": {},
   "source": [
    "Una vez cargado el dataframe, vamos a realizar un simple preproceso, cambiando en las columnas ['keywords', 'cast', 'genres', 'director'] los valores NaN por ''.\n"
   ]
  },
  {
   "cell_type": "raw",
   "metadata": {},
   "source": [
    "Nota: df[feature] = df[feature].fillna('')"
   ]
  },
  {
   "cell_type": "markdown",
   "metadata": {},
   "source": [
    "Entre todas estas características, las que nos interesan para encontrar la similitud para hacer la  recomendación son las siguientes: keywords, cast, genres y director. Para ello, vamos a crearnos una nueva columna df['combined_features'] concatenando los strings de las columnas keywords, cast, genres y director."
   ]
  },
  {
   "cell_type": "raw",
   "metadata": {},
   "source": [
    "def combined_features(row):\n",
    "    return row['keywords']+\" \"+row['cast']+\" \"+row['genres']+\" \"+row['director']\n",
    "df[\"combined_features\"] = df.apply(combined_features, axis =1)"
   ]
  },
  {
   "cell_type": "markdown",
   "metadata": {},
   "source": [
    "La función anterior combinará todas nuestras features(palabras clave, elenco, géneros y director) de sus respectivas filas, y devolverá una fila con todas las características combinadas en un solo string."
   ]
  },
  {
   "cell_type": "markdown",
   "metadata": {},
   "source": [
    "Una vez creada esta nueva columna df[\"combined_features\"], creamos la matriz de vectores y su matriz de similitud del coseno"
   ]
  },
  {
   "cell_type": "markdown",
   "metadata": {},
   "source": [
    "Si todo ha ido bien, la matriz de similitud debería tener esta pinta."
   ]
  },
  {
   "cell_type": "raw",
   "metadata": {},
   "source": [
    "array([[1.        , 0.10540926, 0.12038585, ..., 0.        , 0.        ,\n",
    "        0.        ],\n",
    "       [0.10540926, 1.        , 0.0761387 , ..., 0.03651484, 0.        ,\n",
    "        0.        ],\n",
    "       [0.12038585, 0.0761387 , 1.        , ..., 0.        , 0.11145564,\n",
    "        0.        ],\n",
    "       ...,\n",
    "       [0.        , 0.03651484, 0.        , ..., 1.        , 0.        ,\n",
    "        0.04264014],\n",
    "       [0.        , 0.        , 0.11145564, ..., 0.        , 1.        ,\n",
    "        0.        ],\n",
    "       [0.        , 0.        , 0.        , ..., 0.04264014, 0.        ,\n",
    "        1.        ]])"
   ]
  },
  {
   "cell_type": "markdown",
   "metadata": {},
   "source": [
    "Ahora, debeis obtener del dataframe el index del título de la película escrapeado de la página https://dreguera.github.io. Acordaos de utilizar df.values para obtener el valor concreto."
   ]
  },
  {
   "cell_type": "raw",
   "metadata": {},
   "source": [
    "def get_index_from_title(title):\n",
    "    return df[df.title == title][\"index\"].values[0]"
   ]
  },
  {
   "cell_type": "markdown",
   "metadata": {},
   "source": [
    "Esta función la debeis utilizar para obtener el índice del nombre de esta película. El índice lo deberíais guardar en una variable llamada por ejemplo movie_index"
   ]
  },
  {
   "cell_type": "markdown",
   "metadata": {},
   "source": [
    "Los indices os deberían dar algo así:"
   ]
  },
  {
   "cell_type": "raw",
   "metadata": {},
   "source": [
    "GodFather: 3337\n",
    "Interstellar: 95\n",
    "Scarface: 1850\n",
    "X-Men: Apocalypse: 64\n",
    "Transformers: 111\n",
    "The Silence of the Lambs: 2091\n",
    "Monty Python and the Holy Grail: 4579"
   ]
  },
  {
   "cell_type": "markdown",
   "metadata": {},
   "source": [
    "Ahora, vamos a buscar las películas similares en la matriz de similitud. Para ello vamos a utilizar la siguiente función que me devuelve los indices de las películas y el coeficiente de similitud.\n",
    "\n"
   ]
  },
  {
   "cell_type": "markdown",
   "metadata": {},
   "source": [
    "Para ello usaremos el movie_index de la película que hemos escrapeado. El método enumerate() agregará un contador a la lista iterable cosine_sim y la devolverá en forma de lista de películas similares con el puntaje de similitud de cada índice."
   ]
  },
  {
   "cell_type": "raw",
   "metadata": {},
   "source": [
    "similar_movies = list(enumerate(csim[movie_index])) \n",
    "\n",
    "Donde CSIM es vuestra matriz de similitudes y movie_index el indice que habeis calculado en el paso anterior"
   ]
  },
  {
   "cell_type": "markdown",
   "metadata": {},
   "source": [
    "Ahora, vamos a ordenar la lista creada similar_movies de manera descendente en base a su coeficiente de similitud del coseno. Para ello utilizar la siguiente función que lo único que hace es ordenar descendentemente de manera rápida y fácil"
   ]
  },
  {
   "cell_type": "raw",
   "metadata": {},
   "source": [
    "sorted_similar_movies = sorted(similar_movies, key=lambda x:x[1], reverse=True)\n",
    "\n",
    "Debería mostraros algo tal que asi la lista sorted_similar_movies"
   ]
  },
  {
   "cell_type": "raw",
   "metadata": {},
   "source": [
    "[(4579, 0.9999999999999998),\n",
    " (2826, 0.372677996249965),\n",
    " (472, 0.2921186973360886),\n",
    " (1658, 0.2857738033247041),\n",
    " (1967, 0.27602622373694163),\n",
    " (2310, 0.25560386016907755),\n",
    " (2605, 0.2284160962880643),\n",
    " (1726, 0.19920476822239894),\n",
    " (2175, 0.19920476822239894),\n",
    " (2325, 0.19920476822239894),\n",
    " (2323, 0.19034674690672024),\n",
    " (4039, 0.19034674690672024),\n",
    " (572, 0.18633899812498247),\n",
    " (796, 0.18257418583505536),\n",
    " (3466, 0.1790287185098582),\n",
    " ...]"
   ]
  },
  {
   "cell_type": "markdown",
   "metadata": {},
   "source": [
    "Ahora lo que debéis hacer es mostrar el título de las 15 primeras películas. Para ello, primero debeis obtener el título del df del indice y luego printearlo. "
   ]
  },
  {
   "cell_type": "raw",
   "metadata": {},
   "source": [
    "def get_title_from_index(index):\n",
    "    return df[df.index == index][\"title\"].values[0]\n",
    "\n",
    "for movie in similar_movies: #ACORDAOS QUE SOLO QUEREMOS LAS 15 PRIMERAS\n",
    "    print(get_title_from_index(movie[0]))"
   ]
  },
  {
   "cell_type": "markdown",
   "metadata": {},
   "source": [
    "# ARIKETA 4 (2 puntos)"
   ]
  },
  {
   "cell_type": "markdown",
   "metadata": {},
   "source": [
    "Dados los ficheros noticia1.txt y noticia2.txt mediante la librería gensim devolver por pantalla (SÓLO) el porcentaje de similitud entre los dos textos. (Nota: Se pude hacer uso de las librerías vistas en clase para limpieza de texto)"
   ]
  },
  {
   "cell_type": "raw",
   "metadata": {},
   "source": [
    "Porcentaje de similitud entre noticia1 y noticia 2 es de:  --%"
   ]
  },
  {
   "cell_type": "code",
   "execution_count": null,
   "metadata": {},
   "outputs": [],
   "source": []
  }
 ],
 "metadata": {
  "kernelspec": {
   "display_name": "Python 3",
   "language": "python",
   "name": "python3"
  },
  "language_info": {
   "codemirror_mode": {
    "name": "ipython",
    "version": 3
   },
   "file_extension": ".py",
   "mimetype": "text/x-python",
   "name": "python",
   "nbconvert_exporter": "python",
   "pygments_lexer": "ipython3",
   "version": "3.8.5"
  }
 },
 "nbformat": 4,
 "nbformat_minor": 4
}
